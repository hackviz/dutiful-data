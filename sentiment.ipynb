{
 "cells": [
  {
   "cell_type": "code",
   "execution_count": 1,
   "metadata": {},
   "outputs": [
    {
     "name": "stderr",
     "output_type": "stream",
     "text": [
      "D:\\Anaconda36\\lib\\site-packages\\nltk\\twitter\\__init__.py:20: UserWarning: The twython library has not been installed. Some functionality from the twitter package will not be available.\n",
      "  warnings.warn(\"The twython library has not been installed. \"\n"
     ]
    }
   ],
   "source": [
    "from nltk.classify import NaiveBayesClassifier\n",
    "from nltk.corpus import subjectivity\n",
    "from nltk.sentiment import SentimentAnalyzer\n",
    "from nltk.sentiment.util import *\n",
    "\n",
    "import itertools"
   ]
  },
  {
   "cell_type": "code",
   "execution_count": 3,
   "metadata": {},
   "outputs": [
    {
     "data": {
      "text/plain": [
       "(4000, 4000)"
      ]
     },
     "execution_count": 3,
     "metadata": {},
     "output_type": "execute_result"
    }
   ],
   "source": [
    "n_instances = 4000\n",
    "subj_docs = [(sent, 'subj') for sent in subjectivity.sents(categories='subj')[:n_instances]]\n",
    "obj_docs = [(sent, 'obj') for sent in subjectivity.sents(categories='obj')[:n_instances]]\n",
    "len(subj_docs), len(obj_docs)"
   ]
  },
  {
   "cell_type": "code",
   "execution_count": 4,
   "metadata": {
    "collapsed": true
   },
   "outputs": [],
   "source": [
    "split = int(n_instances*0.8)\n",
    "train_subj_docs = subj_docs[:split]\n",
    "test_subj_docs = subj_docs[split:n_instances]\n",
    "train_obj_docs = obj_docs[:split]\n",
    "test_obj_docs = obj_docs[split:n_instances]\n",
    "training_docs = train_subj_docs+train_obj_docs\n",
    "testing_docs = test_subj_docs+test_obj_docs\n",
    "sentim_analyzer = SentimentAnalyzer()\n",
    "all_words_neg = sentim_analyzer.all_words([mark_negation(doc) for doc in training_docs])"
   ]
  },
  {
   "cell_type": "code",
   "execution_count": 5,
   "metadata": {},
   "outputs": [
    {
     "data": {
      "text/plain": [
       "3430"
      ]
     },
     "execution_count": 5,
     "metadata": {},
     "output_type": "execute_result"
    }
   ],
   "source": [
    "unigram_feats = sentim_analyzer.unigram_word_feats(all_words_neg, min_freq=4)\n",
    "len(unigram_feats)"
   ]
  },
  {
   "cell_type": "code",
   "execution_count": 6,
   "metadata": {
    "collapsed": true
   },
   "outputs": [],
   "source": [
    "sentim_analyzer.add_feat_extractor(extract_unigram_feats, unigrams=unigram_feats)\n",
    "training_set = sentim_analyzer.apply_features(training_docs)\n",
    "test_set = sentim_analyzer.apply_features(testing_docs)"
   ]
  },
  {
   "cell_type": "code",
   "execution_count": 7,
   "metadata": {},
   "outputs": [
    {
     "name": "stdout",
     "output_type": "stream",
     "text": [
      "Training classifier\n",
      "Evaluating NaiveBayesClassifier results...\n",
      "Accuracy: 0.91125\n",
      "F-measure [obj]: 0.9097839898348158\n",
      "F-measure [subj]: 0.9126691266912671\n",
      "Precision [obj]: 0.9250645994832042\n",
      "Precision [subj]: 0.8983050847457628\n",
      "Recall [obj]: 0.895\n",
      "Recall [subj]: 0.9275\n"
     ]
    }
   ],
   "source": [
    "trainer = NaiveBayesClassifier.train\n",
    "classifier = sentim_analyzer.train(trainer, training_set)\n",
    "\n",
    "for key,value in sorted(sentim_analyzer.evaluate(test_set).items()):\n",
    "    print('{0}: {1}'.format(key, value))"
   ]
  },
  {
   "cell_type": "code",
   "execution_count": 8,
   "metadata": {
    "collapsed": true
   },
   "outputs": [],
   "source": [
    "doc = \"Energy and Resources Minister Simon Bridges says an agreement signed between the Energy Efficiency and Conservation Authority (EECA) and one of New Zealand’s largest trucking companies is a significant milestone for the Heavy Vehicle Fuel Efficiency Programme. ECA has been working with industry groups since 2012 to increase awareness of the potential for fuel efficiency and I am delighted the HW Richardson Group is now on board, with 800 trucks in 30 fleets nationwide consuming 19 million litres of fuel per year. I announced an extension to the Heavy Vehicle Fuel Efficiency Programme earlier this year as one of four carbon saving energy efficiency projects, to improve business productivity, save money and reduce carbon emissions. Once fully implemented, the programme is expected to result in New Zealand’s heavy vehicle fleets saving a total of 17 million litres of diesel per year, and reduce carbon emissions by approximately 45,900 tonnes a year, which is equivalent to the carbon emissions released by 16,000 cars. EECA’s Heavy Vehicle Fuel Efficiency Programme guides fleets through a review of their business which includes: fuel data management, driver training practices, vehicle maintenance and selection and a number of other areas, as well as helping to implement initiatives and monitor resulting changes to ensure the savings are sustained over the long term.  With good information, businesses can make smart choices which will more than pay for themselves through direct savings.  There are also a number of other benefits like emission reductions, and increased productivity and competitiveness, says Mr Bridges.\""
   ]
  },
  {
   "cell_type": "code",
   "execution_count": 9,
   "metadata": {},
   "outputs": [
    {
     "data": {
      "text/plain": [
       "'Energy and Resources Minister Simon Bridges says an agreement signed between the Energy Efficiency and Conservation Authority (EECA) and one of New Zealand’s largest trucking companies is a significant milestone for the Heavy Vehicle Fuel Efficiency Programme. ECA has been working with industry groups since 2012 to increase awareness of the potential for fuel efficiency and I am delighted the HW Richardson Group is now on board, with 800 trucks in 30 fleets nationwide consuming 19 million litres of fuel per year. I announced an extension to the Heavy Vehicle Fuel Efficiency Programme earlier this year as one of four carbon saving energy efficiency projects, to improve business productivity, save money and reduce carbon emissions. Once fully implemented, the programme is expected to result in New Zealand’s heavy vehicle fleets saving a total of 17 million litres of diesel per year, and reduce carbon emissions by approximately 45,900 tonnes a year, which is equivalent to the carbon emissions released by 16,000 cars. EECA’s Heavy Vehicle Fuel Efficiency Programme guides fleets through a review of their business which includes: fuel data management, driver training practices, vehicle maintenance and selection and a number of other areas, as well as helping to implement initiatives and monitor resulting changes to ensure the savings are sustained over the long term.  With good information, businesses can make smart choices which will more than pay for themselves through direct savings.  There are also a number of other benefits like emission reductions, and increased productivity and competitiveness, says Mr Bridges.'"
      ]
     },
     "execution_count": 9,
     "metadata": {},
     "output_type": "execute_result"
    }
   ],
   "source": [
    "doc"
   ]
  },
  {
   "cell_type": "code",
   "execution_count": 10,
   "metadata": {
    "collapsed": true
   },
   "outputs": [],
   "source": [
    "sentences = nltk.sent_tokenize(doc)\n",
    "words = [nltk.word_tokenize(sent) for sent in sentences]\n",
    "words = list(itertools.chain(*words))"
   ]
  },
  {
   "cell_type": "code",
   "execution_count": 11,
   "metadata": {},
   "outputs": [
    {
     "data": {
      "text/plain": [
       "'obj'"
      ]
     },
     "execution_count": 11,
     "metadata": {},
     "output_type": "execute_result"
    }
   ],
   "source": [
    "sentim_analyzer.classify(words)"
   ]
  },
  {
   "cell_type": "code",
   "execution_count": 12,
   "metadata": {},
   "outputs": [
    {
     "name": "stdout",
     "output_type": "stream",
     "text": [
      "obj\n",
      "subj\n",
      "subj\n",
      "obj\n",
      "subj\n"
     ]
    }
   ],
   "source": [
    "test_sentences = ['Happiness, love, peace.', \n",
    "                  'This is bad, horrible, not nice', \n",
    "                  'These are the facts. The beehive is 100m high',\n",
    "                  doc,\n",
    "                 'This is delecious']\n",
    "\n",
    "for sent in test_sentences:\n",
    "    sentences = nltk.sent_tokenize(sent)\n",
    "    words = [nltk.word_tokenize(sent) for sent in sentences]\n",
    "    words = list(itertools.chain(*words))\n",
    "    print(sentim_analyzer.classify(words))"
   ]
  },
  {
   "cell_type": "code",
   "execution_count": 15,
   "metadata": {},
   "outputs": [
    {
     "name": "stdout",
     "output_type": "stream",
     "text": [
      "Training classifier\n",
      "Evaluating NaiveBayesClassifier results...\n",
      "Accuracy: 0.55\n",
      "F-measure [climate]: 0.64\n",
      "F-measure [economics]: 0.4\n",
      "Precision [climate]: 0.5333333333333333\n",
      "Precision [economics]: 0.6\n",
      "Recall [climate]: 0.8\n",
      "Recall [economics]: 0.3\n"
     ]
    }
   ],
   "source": [
    "economic = \"Economics is concerned with the optimal distribution of scarce resources within society. For example, economics is concerned with how individual decisions like how firms produce goods and which goods people buy. An important element in economics is concerned with the extent to which governments can intervene in the economy to improve economic welfare. Economics is also concerned with wider issues such as economic growth and unemployment – issues that affect the whole of society.\"\n",
    "economics = [(w, 'economics') for s in nltk.sent_tokenize(economic) for w in nltk.word_tokenize(s)]\n",
    "\n",
    "climate = \"Remote sensing and digital imagery provide us with a vital global perspective on our changing Earth. Comparing measurements of sea level, land ice, Arctic sea ice, and carbon dioxide over the past decades suggest that the Earth’s climate is warming - a phenomenon that is attested to by an increase in the mean annual surface temperature of the Earth’s surface. Examine evidence of climate change from different parts of the Earth’s system and consider what it means to live on a planet with a dynamically changing climate.\"\n",
    "climates = [(w, 'climate') for s in nltk.sent_tokenize(climate) for w in nltk.word_tokenize(s)]\n",
    "\n",
    "unigram_feats = sentim_analyzer.unigram_word_feats(economic+climate, min_freq=4)\n",
    "\n",
    "train = sentim_analyzer.apply_features(climates[:-20]+economics[:-20])\n",
    "test = sentim_analyzer.apply_features(climates[-20:]+economics[-20:])\n",
    "\n",
    "trainer = NaiveBayesClassifier.train\n",
    "classifier = sentim_analyzer.train(trainer, train)\n",
    "\n",
    "for key,value in sorted(sentim_analyzer.evaluate(test).items()):\n",
    "    print('{0}: {1}'.format(key, value))"
   ]
  },
  {
   "cell_type": "code",
   "execution_count": 16,
   "metadata": {},
   "outputs": [
    {
     "name": "stdout",
     "output_type": "stream",
     "text": [
      "climate\n",
      "climate\n",
      "economics\n",
      "economics\n",
      "climate\n"
     ]
    }
   ],
   "source": [
    "for sent in test_sentences:\n",
    "    sentences = nltk.sent_tokenize(sent)\n",
    "    words = [nltk.word_tokenize(sent) for sent in sentences]\n",
    "    words = list(itertools.chain(*words))\n",
    "    print(sentim_analyzer.classify(words))"
   ]
  },
  {
   "cell_type": "code",
   "execution_count": null,
   "metadata": {
    "collapsed": true
   },
   "outputs": [],
   "source": []
  }
 ],
 "metadata": {
  "kernelspec": {
   "display_name": "Python 3",
   "language": "python",
   "name": "python3"
  },
  "language_info": {
   "codemirror_mode": {
    "name": "ipython",
    "version": 3
   },
   "file_extension": ".py",
   "mimetype": "text/x-python",
   "name": "python",
   "nbconvert_exporter": "python",
   "pygments_lexer": "ipython3",
   "version": "3.6.1"
  }
 },
 "nbformat": 4,
 "nbformat_minor": 2
}
